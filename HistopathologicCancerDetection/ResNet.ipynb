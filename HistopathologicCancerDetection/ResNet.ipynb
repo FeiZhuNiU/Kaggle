{
 "cells": [
  {
   "cell_type": "code",
   "execution_count": 1,
   "metadata": {},
   "outputs": [],
   "source": [
    "import pandas as pd\n",
    "import numpy as np\n",
    "# from sklearn.model_selection import train_test_split"
   ]
  },
  {
   "cell_type": "code",
   "execution_count": 2,
   "metadata": {},
   "outputs": [
    {
     "name": "stdout",
     "output_type": "stream",
     "text": [
      "Amount of train labels: 171763, 68937/102826\n",
      "Amount of cv labels: 48262, 20180/28082\n",
      "Percentage of cv labels: 0.2193478013862061\n"
     ]
    }
   ],
   "source": [
    "import pandas as pd\n",
    "import numpy as np\n",
    "\n",
    "def return_tumor_or_not(dic, one_id):\n",
    "    return dic[one_id]\n",
    "\n",
    "def create_dict():\n",
    "    df = pd.read_csv(\"data/train_labels.csv\")\n",
    "    result_dict = {}\n",
    "    for index in range(df.shape[0]):\n",
    "        one_id = df.iloc[index,0]\n",
    "        tumor_or_not = df.iloc[index,1]\n",
    "        result_dict[one_id] = int(tumor_or_not)\n",
    "    return result_dict\n",
    "\n",
    "def find_missing(train_ids, cv_ids):\n",
    "    all_ids = set(pd.read_csv(\"data/train_labels.csv\")['id'].values)\n",
    "    wsi_ids = set(train_ids + cv_ids)\n",
    "\n",
    "    missing_ids = list(all_ids-wsi_ids)\n",
    "    return missing_ids\n",
    "\n",
    "\n",
    "def generate_split():\n",
    "    ids = pd.read_csv(\"data/patch_id_wsi.csv\")\n",
    "    wsi_dict = {}\n",
    "    for i in range(ids.shape[0]):\n",
    "        wsi = ids.iloc[i,1]\n",
    "        train_id = ids.iloc[i,0]\n",
    "        wsi_array = wsi.split('_')\n",
    "        number = int(wsi_array[3])\n",
    "        if wsi_dict.get(number) is None:\n",
    "            wsi_dict[number] = [train_id]\n",
    "        else:\n",
    "            wsi_dict[number].append(train_id)\n",
    "\n",
    "    wsi_keys = list(wsi_dict.keys())\n",
    "    np.random.seed()\n",
    "    np.random.shuffle(wsi_keys)\n",
    "    amount_of_keys = len(wsi_keys)\n",
    "\n",
    "    keys_for_train = wsi_keys[0:int(amount_of_keys*0.8)]\n",
    "    keys_for_cv = wsi_keys[int(amount_of_keys*0.8):]\n",
    "    train_ids = []\n",
    "    cv_ids = []\n",
    "\n",
    "    for key in keys_for_train:\n",
    "        train_ids += wsi_dict[key]\n",
    "\n",
    "    for key in keys_for_cv:\n",
    "        cv_ids += wsi_dict[key]\n",
    "\n",
    "    dic = create_dict()\n",
    "\n",
    "    missing_ids = find_missing(train_ids, cv_ids)\n",
    "    missing_ids_total = len(missing_ids)\n",
    "    np.random.seed()\n",
    "    np.random.shuffle(missing_ids)\n",
    "\n",
    "    train_missing_ids = missing_ids[0:int(missing_ids_total*0.8)]\n",
    "    cv_missing_ids = missing_ids[int(missing_ids_total*0.8):]\n",
    "\n",
    "    train_ids += train_missing_ids\n",
    "    cv_ids += cv_missing_ids\n",
    "\n",
    "    train_labels = []\n",
    "    cv_labels = []\n",
    "\n",
    "    train_tumor = 0\n",
    "    for one_id in train_ids:\n",
    "        temp = return_tumor_or_not(dic, one_id)\n",
    "        train_tumor += temp\n",
    "        train_labels.append(temp)\n",
    "\n",
    "    cv_tumor = 0\n",
    "    for one_id in cv_ids:\n",
    "        temp = return_tumor_or_not(dic, one_id)\n",
    "        cv_tumor += temp\n",
    "        cv_labels.append(temp)\n",
    "    total = len(train_ids) + len(cv_ids)\n",
    "\n",
    "    print(\"Amount of train labels: {}, {}/{}\".format(len(train_ids), train_tumor, len(train_ids)-train_tumor))\n",
    "    print(\"Amount of cv labels: {}, {}/{}\".format(len(cv_ids), cv_tumor, len(cv_ids) - cv_tumor))\n",
    "    print(\"Percentage of cv labels: {}\".format(len(cv_ids)/total))\n",
    "\n",
    "    return train_ids, cv_ids, train_labels, cv_labels\n",
    "\n",
    "train_ids, cv_ids, train_labels, cv_labels = generate_split()"
   ]
  },
  {
   "cell_type": "code",
   "execution_count": 3,
   "metadata": {},
   "outputs": [],
   "source": [
    "import  tensorflow as tf\n",
    "from    tensorflow import keras\n",
    "from    tensorflow.keras import layers, Sequential\n",
    "from    tensorflow.keras.callbacks import EarlyStopping "
   ]
  },
  {
   "cell_type": "code",
   "execution_count": 4,
   "metadata": {},
   "outputs": [],
   "source": [
    "from tensorflow.keras.preprocessing.image import ImageDataGenerator"
   ]
  },
  {
   "cell_type": "code",
   "execution_count": 5,
   "metadata": {},
   "outputs": [],
   "source": [
    "batch_size=64\n",
    "def get_data_generator(train_df, valid_df):\n",
    "    datagen_train=ImageDataGenerator(\n",
    "        rescale=1./255.,\n",
    "        zoom_range=0.1,\n",
    "        rotation_range=90,\n",
    "        zca_whitening=True,\n",
    "        horizontal_flip=True,\n",
    "        vertical_flip=True\n",
    "    )\n",
    "    datagen_valid=ImageDataGenerator(\n",
    "        zca_whitening=True,\n",
    "        rescale=1./255.\n",
    "    )\n",
    "    train_generator = datagen_train.flow_from_dataframe(\n",
    "        dataframe=train_df,\n",
    "        directory=r'e:/cancerDetection/train',\n",
    "        x_col='id',\n",
    "        y_col='label',\n",
    "        target_size=(96,96), \n",
    "        class_mode='binary', \n",
    "        batch_size=batch_size)\n",
    "\n",
    "    valid_generator = datagen_valid.flow_from_dataframe(\n",
    "        dataframe=valid_df,\n",
    "        directory=r'e:/cancerDetection/train',\n",
    "        x_col='id',\n",
    "        y_col='label',\n",
    "        target_size=(96,96), \n",
    "        class_mode='binary', \n",
    "        batch_size=batch_size)  #每次生成的样本数，注意：generator是无限循环的，需要在fit_generator中指定steps_per_epoch,才能知道一个epoch 什么时候结束\n",
    "    return train_generator, valid_generator"
   ]
  },
  {
   "cell_type": "code",
   "execution_count": 6,
   "metadata": {},
   "outputs": [],
   "source": [
    "class BatchNormalization(tf.keras.layers.BatchNormalization):\n",
    "    \"\"\"\n",
    "    Make trainable=False freeze BN for real (the og version is sad)\n",
    "    \"\"\"\n",
    "\n",
    "    def call(self, x, training=False):\n",
    "        if training is None:\n",
    "            training = tf.constant(False)\n",
    "        training = tf.logical_and(training, self.trainable)\n",
    "        return super().call(x, training)"
   ]
  },
  {
   "cell_type": "code",
   "execution_count": 7,
   "metadata": {},
   "outputs": [],
   "source": [
    "class BasicBlock(layers.Layer):\n",
    "\n",
    "    def __init__(self, filter_num, stride=1, use_dropout=False):\n",
    "        super(BasicBlock, self).__init__()\n",
    "        self.use_dropout = use_dropout\n",
    "        self.conv1 = layers.Conv2D(filter_num, (3, 3), strides=stride, padding='same', kernel_initializer=keras.initializers.he_normal())\n",
    "        self.bn1 = BatchNormalization()\n",
    "        self.dropout1 = layers.Dropout(0.2)\n",
    "        self.relu = layers.Activation('relu')\n",
    "\n",
    "        self.conv2 = layers.Conv2D(filter_num, (3, 3), strides=1, padding='same', kernel_initializer=keras.initializers.he_normal())\n",
    "        self.bn2 = BatchNormalization()\n",
    "        self.dropout2 = layers.Dropout(0.2)\n",
    "\n",
    "        if stride != 1:\n",
    "            self.downsample = Sequential()\n",
    "            self.downsample.add(layers.Conv2D(filter_num, (1, 1), strides=stride, kernel_initializer=keras.initializers.he_normal()))\n",
    "        else:\n",
    "            self.downsample = lambda x:x\n",
    "\n",
    "\n",
    "\n",
    "    def call(self, inputs, training=None):\n",
    "\n",
    "        # [b, h, w, c]\n",
    "        out = self.conv1(inputs)\n",
    "        out = self.bn1(out)\n",
    "        if self.use_dropout:\n",
    "            out = self.dropout1(out)\n",
    "        out = self.relu(out)\n",
    "\n",
    "        out = self.conv2(out)\n",
    "        out = self.bn2(out)\n",
    "        if self.use_dropout:\n",
    "            out = self.dropout2(out)\n",
    "\n",
    "        identity = self.downsample(inputs)\n",
    "\n",
    "        output = layers.add([out, identity])\n",
    "        output = tf.nn.relu(output)\n",
    "\n",
    "        return output\n",
    "\n",
    "\n",
    "class ResNet(keras.Model):\n",
    "\n",
    "\n",
    "    def __init__(self, layer_dims, num_classes=100): # [2, 2, 2, 2]\n",
    "        super(ResNet, self).__init__()\n",
    "\n",
    "        self.stem = Sequential([layers.Conv2D(64, (3, 3), strides=(1, 1)),\n",
    "                                BatchNormalization(),\n",
    "                                layers.Activation('relu'),\n",
    "                                layers.MaxPool2D(pool_size=(2, 2), strides=(1, 1), padding='same')\n",
    "                                ])\n",
    "\n",
    "        self.layer1 = self.build_resblock(64,  layer_dims[0])\n",
    "        self.layer2 = self.build_resblock(128, layer_dims[1], stride=2)\n",
    "        self.layer3 = self.build_resblock(256, layer_dims[2], stride=2)\n",
    "        self.layer4 = self.build_resblock(256, layer_dims[3], stride=2, use_dropout=True)\n",
    "\n",
    "        # output: [b, 512, h, w],\n",
    "        self.avgpool = layers.GlobalAveragePooling2D()\n",
    "        self.dropout = layers.Dropout(0.2)\n",
    "        self.fc = layers.Dense(num_classes, activation='sigmoid')\n",
    "\n",
    "\n",
    "    def call(self, inputs, training=None):\n",
    "\n",
    "        x = self.stem(inputs)\n",
    "\n",
    "        x = self.layer1(x)\n",
    "        x = self.layer2(x)\n",
    "        x = self.layer3(x)\n",
    "        x = self.layer4(x)\n",
    "\n",
    "        # [b, c]\n",
    "        x = self.avgpool(x)\n",
    "        x = self.dropout(x)\n",
    "        # [b, 100]\n",
    "        x = self.fc(x)\n",
    "\n",
    "        return x\n",
    "\n",
    "\n",
    "\n",
    "    def build_resblock(self, filter_num, blocks, stride=1, use_dropout=False):\n",
    "\n",
    "        res_blocks = Sequential()\n",
    "        # may down sample\n",
    "        res_blocks.add(BasicBlock(filter_num, stride, use_dropout=use_dropout))\n",
    "\n",
    "        for _ in range(1, blocks):\n",
    "            res_blocks.add(BasicBlock(filter_num, stride=1, use_dropout=use_dropout))\n",
    "\n",
    "        return res_blocks\n",
    "\n",
    "\n",
    "def resnet18(num_classes=100):\n",
    "    return ResNet([2, 2, 2, 2],num_classes=num_classes)\n",
    "\n",
    "\n",
    "def resnet34():\n",
    "    return ResNet([3, 4, 6, 3])"
   ]
  },
  {
   "cell_type": "code",
   "execution_count": 8,
   "metadata": {},
   "outputs": [],
   "source": [
    "model = resnet18(num_classes=1)\n",
    "model.build(input_shape=(None, 96, 96, 3))"
   ]
  },
  {
   "cell_type": "code",
   "execution_count": 9,
   "metadata": {},
   "outputs": [
    {
     "name": "stdout",
     "output_type": "stream",
     "text": [
      "Model: \"res_net\"\n",
      "_________________________________________________________________\n",
      "Layer (type)                 Output Shape              Param #   \n",
      "=================================================================\n",
      "sequential (Sequential)      multiple                  2048      \n",
      "_________________________________________________________________\n",
      "sequential_1 (Sequential)    multiple                  148736    \n",
      "_________________________________________________________________\n",
      "sequential_2 (Sequential)    multiple                  526976    \n",
      "_________________________________________________________________\n",
      "sequential_4 (Sequential)    multiple                  2102528   \n",
      "_________________________________________________________________\n",
      "sequential_6 (Sequential)    multiple                  2430208   \n",
      "_________________________________________________________________\n",
      "global_average_pooling2d (Gl multiple                  0         \n",
      "_________________________________________________________________\n",
      "dropout_16 (Dropout)         multiple                  0         \n",
      "_________________________________________________________________\n",
      "dense (Dense)                multiple                  257       \n",
      "=================================================================\n",
      "Total params: 5,210,753\n",
      "Trainable params: 5,204,993\n",
      "Non-trainable params: 5,760\n",
      "_________________________________________________________________\n"
     ]
    }
   ],
   "source": [
    "model.summary()"
   ]
  },
  {
   "cell_type": "code",
   "execution_count": 10,
   "metadata": {},
   "outputs": [],
   "source": [
    "model.compile(keras.optimizers.Adam(learning_rate=0.001), loss=tf.losses.BinaryCrossentropy(from_logits=False), metrics=[\"accuracy\"])"
   ]
  },
  {
   "cell_type": "code",
   "execution_count": 11,
   "metadata": {},
   "outputs": [
    {
     "data": {
      "text/plain": [
       "<tensorflow.python.training.tracking.util.CheckpointLoadStatus at 0x23e79ca7be0>"
      ]
     },
     "execution_count": 11,
     "metadata": {},
     "output_type": "execute_result"
    }
   ],
   "source": [
    "model.load_weights('resnet')"
   ]
  },
  {
   "cell_type": "code",
   "execution_count": 12,
   "metadata": {},
   "outputs": [
    {
     "name": "stderr",
     "output_type": "stream",
     "text": [
      "d:\\devsw\\Anaconda3\\lib\\site-packages\\keras_preprocessing\\image\\image_data_generator.py:334: UserWarning: This ImageDataGenerator specifies `zca_whitening`, which overrides setting of `featurewise_center`.\n",
      "  warnings.warn('This ImageDataGenerator specifies '\n"
     ]
    },
    {
     "name": "stdout",
     "output_type": "stream",
     "text": [
      "Found 171763 images belonging to 2 classes.\n",
      "Found 48262 images belonging to 2 classes.\n",
      "(171763, 2)\n"
     ]
    }
   ],
   "source": [
    "# train, valid = train_test_split(df_train, test_size=0.05, shuffle=True)\n",
    "train=np.array(list(zip(train_ids, train_labels)))\n",
    "valid = np.array(list(zip(cv_ids, cv_labels)))\n",
    "train_df = pd.DataFrame(train, columns=['id','label']).astype('str')\n",
    "valid_df = pd.DataFrame(valid, columns=['id','label']).astype('str')\n",
    "train_df.values[:,0]=train_df.values[:,0]+'.tif'\n",
    "valid_df.values[:,0]=valid_df.values[:,0]+'.tif'\n",
    "train_generator, valid_generator = get_data_generator(train_df, valid_df)\n",
    "print(train_df.shape)"
   ]
  },
  {
   "cell_type": "code",
   "execution_count": 13,
   "metadata": {},
   "outputs": [
    {
     "name": "stdout",
     "output_type": "stream",
     "text": [
      "Epoch 1/12\n"
     ]
    },
    {
     "name": "stderr",
     "output_type": "stream",
     "text": [
      "d:\\devsw\\Anaconda3\\lib\\site-packages\\keras_preprocessing\\image\\image_data_generator.py:699: UserWarning: This ImageDataGenerator specifies `featurewise_center`, but it hasn't been fit on any training data. Fit it first by calling `.fit(numpy_data)`.\n",
      "  warnings.warn('This ImageDataGenerator specifies '\n",
      "d:\\devsw\\Anaconda3\\lib\\site-packages\\keras_preprocessing\\image\\image_data_generator.py:718: UserWarning: This ImageDataGenerator specifies `zca_whitening`, but it hasn't been fit on any training data. Fit it first by calling `.fit(numpy_data)`.\n",
      "  warnings.warn('This ImageDataGenerator specifies '\n"
     ]
    },
    {
     "name": "stdout",
     "output_type": "stream",
     "text": [
      "1277/2683 [=============>................] - ETA: 24:08 - loss: 0.1408 - accuracy: 0.9484"
     ]
    },
    {
     "ename": "KeyboardInterrupt",
     "evalue": "",
     "output_type": "error",
     "traceback": [
      "\u001b[1;31m---------------------------------------------------------------------------\u001b[0m",
      "\u001b[1;31mKeyboardInterrupt\u001b[0m                         Traceback (most recent call last)",
      "\u001b[1;32m<ipython-input-13-942f4e447e81>\u001b[0m in \u001b[0;36m<module>\u001b[1;34m\u001b[0m\n\u001b[0;32m      7\u001b[0m       \u001b[0mcallbacks\u001b[0m\u001b[1;33m=\u001b[0m\u001b[1;33m[\u001b[0m\u001b[0mearlystopper\u001b[0m\u001b[1;33m]\u001b[0m\u001b[1;33m,\u001b[0m\u001b[1;33m\u001b[0m\u001b[1;33m\u001b[0m\u001b[0m\n\u001b[0;32m      8\u001b[0m       \u001b[0msteps_per_epoch\u001b[0m\u001b[1;33m=\u001b[0m\u001b[0mtrain_df\u001b[0m\u001b[1;33m.\u001b[0m\u001b[0mshape\u001b[0m\u001b[1;33m[\u001b[0m\u001b[1;36m0\u001b[0m\u001b[1;33m]\u001b[0m\u001b[1;33m//\u001b[0m\u001b[0mbatch_size\u001b[0m\u001b[1;33m,\u001b[0m\u001b[1;33m\u001b[0m\u001b[1;33m\u001b[0m\u001b[0m\n\u001b[1;32m----> 9\u001b[1;33m       \u001b[0mvalidation_steps\u001b[0m\u001b[1;33m=\u001b[0m\u001b[0mvalid_df\u001b[0m\u001b[1;33m.\u001b[0m\u001b[0mshape\u001b[0m\u001b[1;33m[\u001b[0m\u001b[1;36m0\u001b[0m\u001b[1;33m]\u001b[0m\u001b[1;33m//\u001b[0m\u001b[0mbatch_size\u001b[0m\u001b[1;33m\u001b[0m\u001b[1;33m\u001b[0m\u001b[0m\n\u001b[0m\u001b[0;32m     10\u001b[0m      )\n",
      "\u001b[1;32md:\\devsw\\Anaconda3\\lib\\site-packages\\tensorflow\\python\\keras\\engine\\training.py\u001b[0m in \u001b[0;36mfit_generator\u001b[1;34m(self, generator, steps_per_epoch, epochs, verbose, callbacks, validation_data, validation_steps, validation_freq, class_weight, max_queue_size, workers, use_multiprocessing, shuffle, initial_epoch)\u001b[0m\n\u001b[0;32m   1513\u001b[0m         \u001b[0mshuffle\u001b[0m\u001b[1;33m=\u001b[0m\u001b[0mshuffle\u001b[0m\u001b[1;33m,\u001b[0m\u001b[1;33m\u001b[0m\u001b[1;33m\u001b[0m\u001b[0m\n\u001b[0;32m   1514\u001b[0m         \u001b[0minitial_epoch\u001b[0m\u001b[1;33m=\u001b[0m\u001b[0minitial_epoch\u001b[0m\u001b[1;33m,\u001b[0m\u001b[1;33m\u001b[0m\u001b[1;33m\u001b[0m\u001b[0m\n\u001b[1;32m-> 1515\u001b[1;33m         steps_name='steps_per_epoch')\n\u001b[0m\u001b[0;32m   1516\u001b[0m \u001b[1;33m\u001b[0m\u001b[0m\n\u001b[0;32m   1517\u001b[0m   def evaluate_generator(self,\n",
      "\u001b[1;32md:\\devsw\\Anaconda3\\lib\\site-packages\\tensorflow\\python\\keras\\engine\\training_generator.py\u001b[0m in \u001b[0;36mmodel_iteration\u001b[1;34m(model, data, steps_per_epoch, epochs, verbose, callbacks, validation_data, validation_steps, validation_freq, class_weight, max_queue_size, workers, use_multiprocessing, shuffle, initial_epoch, mode, batch_size, steps_name, **kwargs)\u001b[0m\n\u001b[0;32m    255\u001b[0m \u001b[1;33m\u001b[0m\u001b[0m\n\u001b[0;32m    256\u001b[0m       \u001b[0mis_deferred\u001b[0m \u001b[1;33m=\u001b[0m \u001b[1;32mnot\u001b[0m \u001b[0mmodel\u001b[0m\u001b[1;33m.\u001b[0m\u001b[0m_is_compiled\u001b[0m\u001b[1;33m\u001b[0m\u001b[1;33m\u001b[0m\u001b[0m\n\u001b[1;32m--> 257\u001b[1;33m       \u001b[0mbatch_outs\u001b[0m \u001b[1;33m=\u001b[0m \u001b[0mbatch_function\u001b[0m\u001b[1;33m(\u001b[0m\u001b[1;33m*\u001b[0m\u001b[0mbatch_data\u001b[0m\u001b[1;33m)\u001b[0m\u001b[1;33m\u001b[0m\u001b[1;33m\u001b[0m\u001b[0m\n\u001b[0m\u001b[0;32m    258\u001b[0m       \u001b[1;32mif\u001b[0m \u001b[1;32mnot\u001b[0m \u001b[0misinstance\u001b[0m\u001b[1;33m(\u001b[0m\u001b[0mbatch_outs\u001b[0m\u001b[1;33m,\u001b[0m \u001b[0mlist\u001b[0m\u001b[1;33m)\u001b[0m\u001b[1;33m:\u001b[0m\u001b[1;33m\u001b[0m\u001b[1;33m\u001b[0m\u001b[0m\n\u001b[0;32m    259\u001b[0m         \u001b[0mbatch_outs\u001b[0m \u001b[1;33m=\u001b[0m \u001b[1;33m[\u001b[0m\u001b[0mbatch_outs\u001b[0m\u001b[1;33m]\u001b[0m\u001b[1;33m\u001b[0m\u001b[1;33m\u001b[0m\u001b[0m\n",
      "\u001b[1;32md:\\devsw\\Anaconda3\\lib\\site-packages\\tensorflow\\python\\keras\\engine\\training.py\u001b[0m in \u001b[0;36mtrain_on_batch\u001b[1;34m(self, x, y, sample_weight, class_weight, reset_metrics)\u001b[0m\n\u001b[0;32m   1257\u001b[0m       \u001b[1;32melse\u001b[0m\u001b[1;33m:\u001b[0m\u001b[1;33m\u001b[0m\u001b[1;33m\u001b[0m\u001b[0m\n\u001b[0;32m   1258\u001b[0m         \u001b[0mself\u001b[0m\u001b[1;33m.\u001b[0m\u001b[0m_make_fit_function\u001b[0m\u001b[1;33m(\u001b[0m\u001b[1;33m)\u001b[0m\u001b[1;33m\u001b[0m\u001b[1;33m\u001b[0m\u001b[0m\n\u001b[1;32m-> 1259\u001b[1;33m         \u001b[0moutputs\u001b[0m \u001b[1;33m=\u001b[0m \u001b[0mself\u001b[0m\u001b[1;33m.\u001b[0m\u001b[0m_fit_function\u001b[0m\u001b[1;33m(\u001b[0m\u001b[0mins\u001b[0m\u001b[1;33m)\u001b[0m  \u001b[1;31m# pylint: disable=not-callable\u001b[0m\u001b[1;33m\u001b[0m\u001b[1;33m\u001b[0m\u001b[0m\n\u001b[0m\u001b[0;32m   1260\u001b[0m \u001b[1;33m\u001b[0m\u001b[0m\n\u001b[0;32m   1261\u001b[0m     \u001b[1;32mif\u001b[0m \u001b[0mreset_metrics\u001b[0m\u001b[1;33m:\u001b[0m\u001b[1;33m\u001b[0m\u001b[1;33m\u001b[0m\u001b[0m\n",
      "\u001b[1;32md:\\devsw\\Anaconda3\\lib\\site-packages\\tensorflow\\python\\keras\\backend.py\u001b[0m in \u001b[0;36m__call__\u001b[1;34m(self, inputs)\u001b[0m\n\u001b[0;32m   3215\u001b[0m         \u001b[0mvalue\u001b[0m \u001b[1;33m=\u001b[0m \u001b[0mmath_ops\u001b[0m\u001b[1;33m.\u001b[0m\u001b[0mcast\u001b[0m\u001b[1;33m(\u001b[0m\u001b[0mvalue\u001b[0m\u001b[1;33m,\u001b[0m \u001b[0mtensor\u001b[0m\u001b[1;33m.\u001b[0m\u001b[0mdtype\u001b[0m\u001b[1;33m)\u001b[0m\u001b[1;33m\u001b[0m\u001b[1;33m\u001b[0m\u001b[0m\n\u001b[0;32m   3216\u001b[0m       \u001b[0mconverted_inputs\u001b[0m\u001b[1;33m.\u001b[0m\u001b[0mappend\u001b[0m\u001b[1;33m(\u001b[0m\u001b[0mvalue\u001b[0m\u001b[1;33m)\u001b[0m\u001b[1;33m\u001b[0m\u001b[1;33m\u001b[0m\u001b[0m\n\u001b[1;32m-> 3217\u001b[1;33m     \u001b[0moutputs\u001b[0m \u001b[1;33m=\u001b[0m \u001b[0mself\u001b[0m\u001b[1;33m.\u001b[0m\u001b[0m_graph_fn\u001b[0m\u001b[1;33m(\u001b[0m\u001b[1;33m*\u001b[0m\u001b[0mconverted_inputs\u001b[0m\u001b[1;33m)\u001b[0m\u001b[1;33m\u001b[0m\u001b[1;33m\u001b[0m\u001b[0m\n\u001b[0m\u001b[0;32m   3218\u001b[0m     return nest.pack_sequence_as(self._outputs_structure,\n\u001b[0;32m   3219\u001b[0m                                  [x.numpy() for x in outputs])\n",
      "\u001b[1;32md:\\devsw\\Anaconda3\\lib\\site-packages\\tensorflow\\python\\eager\\function.py\u001b[0m in \u001b[0;36m__call__\u001b[1;34m(self, *args, **kwargs)\u001b[0m\n\u001b[0;32m    556\u001b[0m       raise TypeError(\"Keyword arguments {} unknown. Expected {}.\".format(\n\u001b[0;32m    557\u001b[0m           list(kwargs.keys()), list(self._arg_keywords)))\n\u001b[1;32m--> 558\u001b[1;33m     \u001b[1;32mreturn\u001b[0m \u001b[0mself\u001b[0m\u001b[1;33m.\u001b[0m\u001b[0m_call_flat\u001b[0m\u001b[1;33m(\u001b[0m\u001b[0margs\u001b[0m\u001b[1;33m)\u001b[0m\u001b[1;33m\u001b[0m\u001b[1;33m\u001b[0m\u001b[0m\n\u001b[0m\u001b[0;32m    559\u001b[0m \u001b[1;33m\u001b[0m\u001b[0m\n\u001b[0;32m    560\u001b[0m   \u001b[1;32mdef\u001b[0m \u001b[0m_filtered_call\u001b[0m\u001b[1;33m(\u001b[0m\u001b[0mself\u001b[0m\u001b[1;33m,\u001b[0m \u001b[0margs\u001b[0m\u001b[1;33m,\u001b[0m \u001b[0mkwargs\u001b[0m\u001b[1;33m)\u001b[0m\u001b[1;33m:\u001b[0m\u001b[1;33m\u001b[0m\u001b[1;33m\u001b[0m\u001b[0m\n",
      "\u001b[1;32md:\\devsw\\Anaconda3\\lib\\site-packages\\tensorflow\\python\\eager\\function.py\u001b[0m in \u001b[0;36m_call_flat\u001b[1;34m(self, args)\u001b[0m\n\u001b[0;32m    625\u001b[0m     \u001b[1;31m# Only need to override the gradient in graph mode and when we have outputs.\u001b[0m\u001b[1;33m\u001b[0m\u001b[1;33m\u001b[0m\u001b[1;33m\u001b[0m\u001b[0m\n\u001b[0;32m    626\u001b[0m     \u001b[1;32mif\u001b[0m \u001b[0mcontext\u001b[0m\u001b[1;33m.\u001b[0m\u001b[0mexecuting_eagerly\u001b[0m\u001b[1;33m(\u001b[0m\u001b[1;33m)\u001b[0m \u001b[1;32mor\u001b[0m \u001b[1;32mnot\u001b[0m \u001b[0mself\u001b[0m\u001b[1;33m.\u001b[0m\u001b[0moutputs\u001b[0m\u001b[1;33m:\u001b[0m\u001b[1;33m\u001b[0m\u001b[1;33m\u001b[0m\u001b[0m\n\u001b[1;32m--> 627\u001b[1;33m       \u001b[0moutputs\u001b[0m \u001b[1;33m=\u001b[0m \u001b[0mself\u001b[0m\u001b[1;33m.\u001b[0m\u001b[0m_inference_function\u001b[0m\u001b[1;33m.\u001b[0m\u001b[0mcall\u001b[0m\u001b[1;33m(\u001b[0m\u001b[0mctx\u001b[0m\u001b[1;33m,\u001b[0m \u001b[0margs\u001b[0m\u001b[1;33m)\u001b[0m\u001b[1;33m\u001b[0m\u001b[1;33m\u001b[0m\u001b[0m\n\u001b[0m\u001b[0;32m    628\u001b[0m     \u001b[1;32melse\u001b[0m\u001b[1;33m:\u001b[0m\u001b[1;33m\u001b[0m\u001b[1;33m\u001b[0m\u001b[0m\n\u001b[0;32m    629\u001b[0m       \u001b[0mself\u001b[0m\u001b[1;33m.\u001b[0m\u001b[0m_register_gradient\u001b[0m\u001b[1;33m(\u001b[0m\u001b[1;33m)\u001b[0m\u001b[1;33m\u001b[0m\u001b[1;33m\u001b[0m\u001b[0m\n",
      "\u001b[1;32md:\\devsw\\Anaconda3\\lib\\site-packages\\tensorflow\\python\\eager\\function.py\u001b[0m in \u001b[0;36mcall\u001b[1;34m(self, ctx, args)\u001b[0m\n\u001b[0;32m    413\u001b[0m             attrs=(\"executor_type\", executor_type,\n\u001b[0;32m    414\u001b[0m                    \"config_proto\", config),\n\u001b[1;32m--> 415\u001b[1;33m             ctx=ctx)\n\u001b[0m\u001b[0;32m    416\u001b[0m       \u001b[1;31m# Replace empty list with None\u001b[0m\u001b[1;33m\u001b[0m\u001b[1;33m\u001b[0m\u001b[1;33m\u001b[0m\u001b[0m\n\u001b[0;32m    417\u001b[0m       \u001b[0moutputs\u001b[0m \u001b[1;33m=\u001b[0m \u001b[0moutputs\u001b[0m \u001b[1;32mor\u001b[0m \u001b[1;32mNone\u001b[0m\u001b[1;33m\u001b[0m\u001b[1;33m\u001b[0m\u001b[0m\n",
      "\u001b[1;32md:\\devsw\\Anaconda3\\lib\\site-packages\\tensorflow\\python\\eager\\execute.py\u001b[0m in \u001b[0;36mquick_execute\u001b[1;34m(op_name, num_outputs, inputs, attrs, ctx, name)\u001b[0m\n\u001b[0;32m     58\u001b[0m     tensors = pywrap_tensorflow.TFE_Py_Execute(ctx._handle, device_name,\n\u001b[0;32m     59\u001b[0m                                                \u001b[0mop_name\u001b[0m\u001b[1;33m,\u001b[0m \u001b[0minputs\u001b[0m\u001b[1;33m,\u001b[0m \u001b[0mattrs\u001b[0m\u001b[1;33m,\u001b[0m\u001b[1;33m\u001b[0m\u001b[1;33m\u001b[0m\u001b[0m\n\u001b[1;32m---> 60\u001b[1;33m                                                num_outputs)\n\u001b[0m\u001b[0;32m     61\u001b[0m   \u001b[1;32mexcept\u001b[0m \u001b[0mcore\u001b[0m\u001b[1;33m.\u001b[0m\u001b[0m_NotOkStatusException\u001b[0m \u001b[1;32mas\u001b[0m \u001b[0me\u001b[0m\u001b[1;33m:\u001b[0m\u001b[1;33m\u001b[0m\u001b[1;33m\u001b[0m\u001b[0m\n\u001b[0;32m     62\u001b[0m     \u001b[1;32mif\u001b[0m \u001b[0mname\u001b[0m \u001b[1;32mis\u001b[0m \u001b[1;32mnot\u001b[0m \u001b[1;32mNone\u001b[0m\u001b[1;33m:\u001b[0m\u001b[1;33m\u001b[0m\u001b[1;33m\u001b[0m\u001b[0m\n",
      "\u001b[1;31mKeyboardInterrupt\u001b[0m: "
     ]
    }
   ],
   "source": [
    "earlystopper = EarlyStopping(\n",
    "    monitor='val_loss', patience=10)\n",
    "    \n",
    "history = model.fit_generator(train_generator,\n",
    "      validation_data=valid_generator,\n",
    "      epochs=12,\n",
    "      callbacks=[earlystopper],\n",
    "      steps_per_epoch=train_df.shape[0]//batch_size,\n",
    "      validation_steps=valid_df.shape[0]//batch_size\n",
    "     )"
   ]
  },
  {
   "cell_type": "code",
   "execution_count": 21,
   "metadata": {},
   "outputs": [],
   "source": [
    "model.save_weights('resnet')"
   ]
  },
  {
   "cell_type": "code",
   "execution_count": 10,
   "metadata": {},
   "outputs": [
    {
     "ename": "NameError",
     "evalue": "name 'train_generator' is not defined",
     "output_type": "error",
     "traceback": [
      "\u001b[1;31m---------------------------------------------------------------------------\u001b[0m",
      "\u001b[1;31mNameError\u001b[0m                                 Traceback (most recent call last)",
      "\u001b[1;32m<ipython-input-10-d0411ccbe0a0>\u001b[0m in \u001b[0;36m<module>\u001b[1;34m\u001b[0m\n\u001b[1;32m----> 1\u001b[1;33m \u001b[0mdata\u001b[0m \u001b[1;33m=\u001b[0m \u001b[0mnext\u001b[0m\u001b[1;33m(\u001b[0m\u001b[0miter\u001b[0m\u001b[1;33m(\u001b[0m\u001b[0mtrain_generator\u001b[0m\u001b[1;33m)\u001b[0m\u001b[1;33m)\u001b[0m\u001b[1;33m\u001b[0m\u001b[1;33m\u001b[0m\u001b[0m\n\u001b[0m\u001b[0;32m      2\u001b[0m \u001b[0mprint\u001b[0m\u001b[1;33m(\u001b[0m\u001b[0mmodel\u001b[0m\u001b[1;33m(\u001b[0m\u001b[0mdata\u001b[0m\u001b[1;33m[\u001b[0m\u001b[1;36m0\u001b[0m\u001b[1;33m]\u001b[0m\u001b[1;33m)\u001b[0m\u001b[1;33m)\u001b[0m\u001b[1;33m\u001b[0m\u001b[1;33m\u001b[0m\u001b[0m\n\u001b[0;32m      3\u001b[0m \u001b[0mprint\u001b[0m\u001b[1;33m(\u001b[0m\u001b[0mdata\u001b[0m\u001b[1;33m[\u001b[0m\u001b[1;36m1\u001b[0m\u001b[1;33m]\u001b[0m\u001b[1;33m)\u001b[0m\u001b[1;33m\u001b[0m\u001b[1;33m\u001b[0m\u001b[0m\n",
      "\u001b[1;31mNameError\u001b[0m: name 'train_generator' is not defined"
     ]
    }
   ],
   "source": [
    "data = next(iter(train_generator))\n",
    "print(model(data[0]))\n",
    "print(data[1])"
   ]
  },
  {
   "cell_type": "code",
   "execution_count": 27,
   "metadata": {},
   "outputs": [],
   "source": [
    "sample_image=tf.random.normal([1,96,96,3], mean=128, stddev=10)\n",
    "model(sample_image)"
   ]
  },
  {
   "cell_type": "code",
   "execution_count": 18,
   "metadata": {},
   "outputs": [
    {
     "name": "stdout",
     "output_type": "stream",
     "text": [
      "Found 57458 images belonging to 1 classes.\n"
     ]
    }
   ],
   "source": [
    "test_datagen=ImageDataGenerator(\n",
    "    zca_whitening=True,\n",
    "    rescale=1./255.\n",
    ")\n",
    "\n",
    "test_generator = test_datagen.flow_from_directory(\n",
    "    directory=r'C:/test',\n",
    "    target_size=(96,96), \n",
    "    batch_size=2048,\n",
    "    class_mode=None,\n",
    "    shuffle=False\n",
    ") "
   ]
  },
  {
   "cell_type": "code",
   "execution_count": 19,
   "metadata": {},
   "outputs": [
    {
     "name": "stdout",
     "output_type": "stream",
     "text": [
      "1 0\n",
      "2048\n",
      "1\\00006537328c33e284c973d7b39d340809f7271b.tif 1\\0912a4f265fe7f37be287c4333167e59162cccba.tif\n",
      "2048\n",
      "2 2048\n",
      "2048\n",
      "1\\0912be906eeb7f21a21c9378c52640411c63fe92.tif 1\\126bf75fb455b0ead4c791b8616f91a7d7e0a23d.tif\n",
      "2048\n",
      "3 4096\n",
      "2048\n",
      "1\\126cb84577113e79c20ada4488b529e386259df3.tif 1\\1b608be7479cf8442c033320a0d449dbad9d7c8f.tif\n",
      "2048\n",
      "4 6144\n",
      "2048\n",
      "1\\1b6159e3e7385d1a936a41f6b85257fbc41ca47d.tif 1\\24d6cc1260f47d5cab369227e2b07b1b234f0f81.tif\n",
      "2048\n",
      "5 8192\n",
      "2048\n",
      "1\\24d765206aacf9435972fc93c7787864182edfe7.tif 1\\2d89e0f298d15eb26686c2556da95cc3abb80be7.tif\n",
      "2048\n",
      "6 10240\n",
      "2048\n",
      "1\\2d8b7b1e36fb276ef58888926d83aa9f14275877.tif 1\\36a510f3444a7641a312d6f0b5565ca932a9934a.tif\n",
      "2048\n",
      "7 12288\n",
      "2048\n",
      "1\\36a6027aad62d423a759fdfc72331af0fedff430.tif 1\\3fcbb4a94606d3e281ebf11d7075cdba2fecf96d.tif\n",
      "2048\n",
      "8 14336\n",
      "2048\n",
      "1\\3fcbdf438c17243900cbb3a59fd9d4b3bd7d028e.tif 1\\48e90d732baf86e86d3ef1a3e11036e264ad6fb3.tif\n",
      "2048\n",
      "9 16384\n",
      "2048\n",
      "1\\48e926fbd0ac80b3318ba1ec5c61555254d2952f.tif 1\\52007e2b1dbf12c81ef93c93b276cad090d2e512.tif\n",
      "2048\n",
      "10 18432\n",
      "2048\n",
      "1\\52008eef126bfb0d5bc6e37d61ec0fb5cefc13f6.tif 1\\5adb975c587f0d77f6adce945466c392e9ffe271.tif\n",
      "2048\n",
      "11 20480\n",
      "2048\n",
      "1\\5adf3d4aa1ec8ba38eef9c3729278dd50680e5fc.tif 1\\63dcbb37d4b56fa156395a3bae5f41cc25538036.tif\n",
      "2048\n",
      "12 22528\n",
      "2048\n",
      "1\\63dddf496ef24b15b42bf4a044847a9b737ec6bb.tif 1\\6d1802c183cd440bb66b35fdd82aac47f9ef737f.tif\n",
      "2048\n",
      "13 24576\n",
      "2048\n",
      "1\\6d1a8163831d6c8ce616ab5857185c57cf36954b.tif 1\\766167890995d8d4f737304e5445c5c66d1a42dd.tif\n",
      "2048\n",
      "14 26624\n",
      "2048\n",
      "1\\7663bed93b1a050b88dc0bf35e6d4da9da53b11e.tif 1\\7f7270577d0550993d0e1baf4d11c82e31a2f19b.tif\n",
      "2048\n",
      "15 28672\n",
      "2048\n",
      "1\\7f72b035b38aaf0d255cc9db0320f6aea396e8bb.tif 1\\88d0ad3a8cfd227b01bd75b902fdabdcf35a9ab1.tif\n",
      "2048\n",
      "16 30720\n",
      "2048\n",
      "1\\88d2d6703e3403535b0a494288edff408a40f3cd.tif 1\\91c447cddeb7505029201d4205a5d20e9753d871.tif\n",
      "2048\n",
      "17 32768\n",
      "2048\n",
      "1\\91c45251a5a901123b97ec60edd38d4a469cf4db.tif 1\\9b10bb1c528084dafd6d00f184792a76f7838641.tif\n",
      "2048\n",
      "18 34816\n",
      "2048\n",
      "1\\9b13d19d1086d934d82561284f2cd32f1ad12415.tif 1\\a468202cd4eb56b31f45d4b4aabe03a1dfd677fe.tif\n",
      "2048\n",
      "19 36864\n",
      "2048\n",
      "1\\a46b1378b57dda5dedb07222d880804597622b8c.tif 1\\ad699fffddb6377d918e4e684a51f143948e30f3.tif\n",
      "2048\n",
      "20 38912\n",
      "2048\n",
      "1\\ad6b48909d4168d28a3bbbca19992a56b4b3bdf7.tif 1\\b69600e8f869cfc06e6216e8903e60b00a5e38ba.tif\n",
      "2048\n",
      "21 40960\n",
      "2048\n",
      "1\\b6974923257c58917f12d11c4daa9987e5030691.tif 1\\bfdef55bec5ee86d32119ba74bc4e19c1eadbead.tif\n",
      "2048\n",
      "22 43008\n",
      "2048\n",
      "1\\bfe0d108f97e3a2334e00c3e8cace0add4e9ab89.tif 1\\c90970532ac18e7c73791dc0caac14d931983292.tif\n",
      "2048\n",
      "23 45056\n",
      "2048\n",
      "1\\c90a592d58a5da64d95f663539deb6b5edc5e0e5.tif 1\\d221a181af0bf218b4aaee74037e4e4dbeaed17d.tif\n",
      "2048\n",
      "24 47104\n",
      "2048\n",
      "1\\d22346939a5a131f99540871dfbd2f81490b45f6.tif 1\\db04d35148ca74b4bc1f041d5ee88a778bab3434.tif\n",
      "2048\n",
      "25 49152\n",
      "2048\n",
      "1\\db0838baf85e94b49ce84ec652e9c7704ea33089.tif 1\\e403313a2ce308182ce6079be5d0d07e4d496600.tif\n",
      "2048\n",
      "26 51200\n",
      "2048\n",
      "1\\e4041969a720076e1499a5cde8b9d87e7ddd16c9.tif 1\\ed1b0dc9f8d9fc34fd6f4020754fc1ac009e299e.tif\n",
      "2048\n",
      "27 53248\n",
      "2048\n",
      "1\\ed1bcde84ae5521755865223847bf32c35956b9a.tif 1\\f6a181ca0df4fe3494882ce32b6336313d10b755.tif\n",
      "2048\n",
      "28 55296\n",
      "2048\n",
      "1\\f6a26a7e6c0b51af2d8283314ed955bf9dcd4945.tif 1\\ff79d8194f72d923d4bbd98c0ef00a3a9d94f7f0.tif\n",
      "2048\n",
      "0 57344\n",
      "114\n",
      "1\\ff7b3b291a8d32f5e2e847a02851171eddbe756c.tif 1\\ffffeb4c0756098c7f589b7beec08ef1899093b5.tif\n",
      "114\n"
     ]
    }
   ],
   "source": [
    "submission = pd.DataFrame()\n",
    "\n",
    "for i in test_generator:\n",
    "\n",
    "    data_frame = pd.DataFrame()\n",
    "    \n",
    "    idx = (test_generator.batch_index - 1) * test_generator.batch_size\n",
    "    if test_generator.batch_index == 0:\n",
    "        idx = 57344\n",
    "    print(test_generator.batch_index, idx)\n",
    "    files = test_generator.filenames[idx : (idx + test_generator.batch_size) if (idx + test_generator.batch_size<=57458) else 57458] #\n",
    "    print(len(files))\n",
    "    print(files[0], files[-1])\n",
    "    data_frame['id']=np.array([x.split('.')[0][2:] for x in files])\n",
    "    predictions = model.predict(i,verbose=0)\n",
    "    print(len(predictions))\n",
    "    data_frame['label'] = np.array([int(x) for x in list(map(np.rint, predictions))])\n",
    "    submission = pd.concat([submission, data_frame])\n",
    "    if test_generator.batch_index == 0:\n",
    "        break\n",
    "\n",
    "submission.to_csv('result.csv', index=False, header=True)"
   ]
  },
  {
   "cell_type": "code",
   "execution_count": 121,
   "metadata": {},
   "outputs": [],
   "source": [
    "print(test_generator.batch_index, submission.shape)"
   ]
  },
  {
   "cell_type": "code",
   "execution_count": 124,
   "metadata": {},
   "outputs": [],
   "source": [
    "submission=submission.drop_duplicates([\"id\"])"
   ]
  },
  {
   "cell_type": "code",
   "execution_count": 48,
   "metadata": {},
   "outputs": [
    {
     "name": "stdout",
     "output_type": "stream",
     "text": [
      "0\n",
      "2048\n",
      "4096\n",
      "6144\n",
      "8192\n",
      "10240\n",
      "12288\n",
      "14336\n",
      "16384\n",
      "18432\n",
      "20480\n",
      "22528\n",
      "24576\n",
      "26624\n",
      "28672\n",
      "30720\n",
      "32768\n",
      "34816\n",
      "36864\n",
      "38912\n",
      "40960\n",
      "43008\n",
      "45056\n",
      "47104\n",
      "49152\n",
      "51200\n",
      "53248\n",
      "55296\n",
      "57344\n"
     ]
    }
   ],
   "source": [
    "import numpy as np\n",
    "from glob import glob\n",
    "from skimage.io import imread\n",
    "import os\n",
    "testing_files = glob(os.path.join('data/test/','*.tif'))\n",
    "submission = pd.DataFrame()\n",
    "\n",
    "for index in range(0, len(testing_files), 2048):\n",
    "    data_frame = pd.DataFrame({'path': testing_files[index:index+2048]})\n",
    "    data_frame['id'] = data_frame.path.map(lambda x: x.split(\".\")[0][10:])\n",
    "    data_frame['image'] = data_frame['path'].map(imread)\n",
    "    images = np.stack(data_frame.image, axis=0)\n",
    "    images = images / 255.\n",
    "    print(index)\n",
    "    predicted_labels = np.rint(model.predict(images,verbose=0))\n",
    "    data_frame['label'] = predicted_labels\n",
    "    submission = pd.concat([submission, data_frame[[\"id\", \"label\"]]])\n",
    "submission.to_csv('result.csv', index=False, header=True)"
   ]
  },
  {
   "cell_type": "code",
   "execution_count": 101,
   "metadata": {},
   "outputs": [
    {
     "name": "stdout",
     "output_type": "stream",
     "text": [
      "[1, 2, 3]\n"
     ]
    }
   ],
   "source": [
    "a=[1,2,3,4]\n",
    "print(a[0:(1+2) if 2<3 else 2])"
   ]
  },
  {
   "cell_type": "code",
   "execution_count": null,
   "metadata": {},
   "outputs": [],
   "source": []
  }
 ],
 "metadata": {
  "kernelspec": {
   "display_name": "Python 3",
   "language": "python",
   "name": "python3"
  },
  "language_info": {
   "codemirror_mode": {
    "name": "ipython",
    "version": 3
   },
   "file_extension": ".py",
   "mimetype": "text/x-python",
   "name": "python",
   "nbconvert_exporter": "python",
   "pygments_lexer": "ipython3",
   "version": "3.7.3"
  }
 },
 "nbformat": 4,
 "nbformat_minor": 2
}
