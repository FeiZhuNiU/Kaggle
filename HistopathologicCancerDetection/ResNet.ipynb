{
 "cells": [
  {
   "cell_type": "code",
   "execution_count": 1,
   "metadata": {},
   "outputs": [],
   "source": [
    "import pandas as pd\n",
    "import numpy as np\n",
    "from sklearn.model_selection import train_test_split\n",
    "df_train = pd.read_csv('data/train_labels.csv').values"
   ]
  },
  {
   "cell_type": "code",
   "execution_count": 2,
   "metadata": {},
   "outputs": [
    {
     "data": {
      "text/plain": [
       "array([['f38a6374c348f90b587e046aac6079959adf3835', 0],\n",
       "       ['c18f2d887b7ae4f6742ee445113fa1aef383ed77', 1],\n",
       "       ['755db6279dae599ebb4d39a9123cce439965282d', 0],\n",
       "       ['bc3f0c64fb968ff4a8bd33af6971ecae77c75e08', 0],\n",
       "       ['068aba587a4950175d04c680d38943fd488d6a9d', 0],\n",
       "       ['acfe80838488fae3c89bd21ade75be5c34e66be7', 0],\n",
       "       ['a24ce148f6ffa7ef8eefb4efb12ebffe8dd700da', 1],\n",
       "       ['7f6ccae485af121e0b6ee733022e226ee6b0c65f', 1],\n",
       "       ['559e55a64c9ba828f700e948f6886f4cea919261', 0],\n",
       "       ['8eaaa7a400aa79d36c2440a4aa101cc14256cda4', 0],\n",
       "       ['a106469bbfda4cdc5a9da7ac0152927bf1b4a92d', 0],\n",
       "       ['c3d660212bf2a11c994e0eadff13770a9927b731', 1],\n",
       "       ['a1991e73a9b676faddd2bd47c39754b14d1eb923', 0],\n",
       "       ['08566ce82d4406f464c9c2a3cd014704735db7a9', 0],\n",
       "       ['94fa32b29cc1c00403176c0795fffa3cfaa0f20e', 1],\n",
       "       ['f416de7491a31951f79b3cee75b002f4d1bf0162', 0],\n",
       "       ['a1c001f6b242c72d3066f15ac6eb059ea72d30ba', 0],\n",
       "       ['0b820b71670c039dd0a51333d1c919f471a9e940', 1],\n",
       "       ['730431efa2f79927156dcc4382819e9a6cc2c5bb', 0],\n",
       "       ['d34af1e7500f2f3de41b0e6fdeb2ed245d814590', 1]], dtype=object)"
      ]
     },
     "execution_count": 2,
     "metadata": {},
     "output_type": "execute_result"
    }
   ],
   "source": [
    "df_train[0:20]"
   ]
  },
  {
   "cell_type": "code",
   "execution_count": 3,
   "metadata": {},
   "outputs": [],
   "source": [
    "import  tensorflow as tf\n",
    "from    tensorflow import keras\n",
    "from    tensorflow.keras import layers, Sequential\n",
    "from    tensorflow.keras.callbacks import EarlyStopping "
   ]
  },
  {
   "cell_type": "code",
   "execution_count": 4,
   "metadata": {},
   "outputs": [],
   "source": [
    "from tensorflow.keras.preprocessing.image import ImageDataGenerator"
   ]
  },
  {
   "cell_type": "code",
   "execution_count": 12,
   "metadata": {},
   "outputs": [],
   "source": [
    "batch_size=32\n",
    "def get_data_generator(train_df, valid_df):\n",
    "    datagen_train=ImageDataGenerator(\n",
    "        rescale=1./255.,\n",
    "        zoom_range=0.1,\n",
    "        rotation_range=90,\n",
    "        zca_whitening=True,\n",
    "        horizontal_flip=True,\n",
    "        vertical_flip=True\n",
    "    )\n",
    "    datagen_valid=ImageDataGenerator(\n",
    "        zca_whitening=True,\n",
    "        rescale=1./255.\n",
    "    )\n",
    "    train_generator = datagen_train.flow_from_dataframe(\n",
    "        dataframe=train_df,\n",
    "        directory=r'C:/train',\n",
    "        x_col='id',\n",
    "        y_col='label',\n",
    "        target_size=(96,96), \n",
    "        class_mode='binary', \n",
    "        batch_size=batch_size)\n",
    "\n",
    "    valid_generator = datagen_valid.flow_from_dataframe(\n",
    "        dataframe=valid_df,\n",
    "        directory=r'C:/train',\n",
    "        x_col='id',\n",
    "        y_col='label',\n",
    "        target_size=(96,96), \n",
    "        class_mode='binary', \n",
    "        batch_size=batch_size)  #每次生成的样本数，注意：generator是无限循环的，需要在fit_generator中指定steps_per_epoch,才能知道一个epoch 什么时候结束\n",
    "    return train_generator, valid_generator"
   ]
  },
  {
   "cell_type": "code",
   "execution_count": 6,
   "metadata": {},
   "outputs": [],
   "source": [
    "class BasicBlock(layers.Layer):\n",
    "\n",
    "    def __init__(self, filter_num, stride=1, use_dropout=False):\n",
    "        super(BasicBlock, self).__init__()\n",
    "        self.use_dropout = use_dropout\n",
    "        self.conv1 = layers.Conv2D(filter_num, (3, 3), strides=stride, padding='same', kernel_initializer=keras.initializers.he_normal())\n",
    "        self.bn1 = layers.BatchNormalization()\n",
    "        self.dropout1 = layers.Dropout(0.2)\n",
    "        self.relu = layers.Activation('relu')\n",
    "\n",
    "        self.conv2 = layers.Conv2D(filter_num, (3, 3), strides=1, padding='same', kernel_initializer=keras.initializers.he_normal())\n",
    "        self.bn2 = layers.BatchNormalization()\n",
    "        self.dropout2 = layers.Dropout(0.2)\n",
    "\n",
    "        if stride != 1:\n",
    "            self.downsample = Sequential()\n",
    "            self.downsample.add(layers.Conv2D(filter_num, (1, 1), strides=stride, kernel_initializer=keras.initializers.he_normal()))\n",
    "        else:\n",
    "            self.downsample = lambda x:x\n",
    "\n",
    "\n",
    "\n",
    "    def call(self, inputs, training=None):\n",
    "\n",
    "        # [b, h, w, c]\n",
    "        out = self.conv1(inputs)\n",
    "        out = self.bn1(out)\n",
    "        if self.use_dropout:\n",
    "            out = self.dropout1(out)\n",
    "        out = self.relu(out)\n",
    "\n",
    "        out = self.conv2(out)\n",
    "        out = self.bn2(out)\n",
    "        if self.use_dropout:\n",
    "            out = self.dropout2(out)\n",
    "\n",
    "        identity = self.downsample(inputs)\n",
    "\n",
    "        output = layers.add([out, identity])\n",
    "        output = tf.nn.relu(output)\n",
    "\n",
    "        return output\n",
    "\n",
    "\n",
    "class ResNet(keras.Model):\n",
    "\n",
    "\n",
    "    def __init__(self, layer_dims, num_classes=100): # [2, 2, 2, 2]\n",
    "        super(ResNet, self).__init__()\n",
    "\n",
    "        self.stem = Sequential([layers.Conv2D(64, (3, 3), strides=(1, 1)),\n",
    "                                layers.BatchNormalization(),\n",
    "                                layers.Activation('relu'),\n",
    "                                layers.MaxPool2D(pool_size=(2, 2), strides=(1, 1), padding='same')\n",
    "                                ])\n",
    "\n",
    "        self.layer1 = self.build_resblock(64,  layer_dims[0])\n",
    "        self.layer2 = self.build_resblock(128, layer_dims[1], stride=2)\n",
    "        self.layer3 = self.build_resblock(256, layer_dims[2], stride=2)\n",
    "        self.layer4 = self.build_resblock(256, layer_dims[3], stride=2, use_dropout=True)\n",
    "\n",
    "        # output: [b, 512, h, w],\n",
    "        self.avgpool = layers.GlobalAveragePooling2D()\n",
    "        self.dropout = layers.Dropout(0.2)\n",
    "        self.fc = layers.Dense(num_classes, activation='sigmoid')\n",
    "\n",
    "\n",
    "    def call(self, inputs, training=None):\n",
    "\n",
    "        x = self.stem(inputs)\n",
    "\n",
    "        x = self.layer1(x)\n",
    "        x = self.layer2(x)\n",
    "        x = self.layer3(x)\n",
    "        x = self.layer4(x)\n",
    "\n",
    "        # [b, c]\n",
    "        x = self.avgpool(x)\n",
    "        x = self.dropout(x)\n",
    "        # [b, 100]\n",
    "        x = self.fc(x)\n",
    "\n",
    "        return x\n",
    "\n",
    "\n",
    "\n",
    "    def build_resblock(self, filter_num, blocks, stride=1, use_dropout=False):\n",
    "\n",
    "        res_blocks = Sequential()\n",
    "        # may down sample\n",
    "        res_blocks.add(BasicBlock(filter_num, stride, use_dropout=use_dropout))\n",
    "\n",
    "        for _ in range(1, blocks):\n",
    "            res_blocks.add(BasicBlock(filter_num, stride=1, use_dropout=use_dropout))\n",
    "\n",
    "        return res_blocks\n",
    "\n",
    "\n",
    "def resnet18(num_classes=100):\n",
    "    return ResNet([2, 2, 2, 2],num_classes=num_classes)\n",
    "\n",
    "\n",
    "def resnet34():\n",
    "    return ResNet([3, 4, 6, 3])"
   ]
  },
  {
   "cell_type": "code",
   "execution_count": 7,
   "metadata": {},
   "outputs": [],
   "source": [
    "model = resnet18(num_classes=1)\n",
    "model.build(input_shape=(None, 32, 32, 3))"
   ]
  },
  {
   "cell_type": "code",
   "execution_count": 8,
   "metadata": {},
   "outputs": [
    {
     "name": "stdout",
     "output_type": "stream",
     "text": [
      "Model: \"res_net\"\n",
      "_________________________________________________________________\n",
      "Layer (type)                 Output Shape              Param #   \n",
      "=================================================================\n",
      "sequential (Sequential)      multiple                  2048      \n",
      "_________________________________________________________________\n",
      "sequential_1 (Sequential)    multiple                  148736    \n",
      "_________________________________________________________________\n",
      "sequential_2 (Sequential)    multiple                  526976    \n",
      "_________________________________________________________________\n",
      "sequential_4 (Sequential)    multiple                  2102528   \n",
      "_________________________________________________________________\n",
      "sequential_6 (Sequential)    multiple                  2430208   \n",
      "_________________________________________________________________\n",
      "global_average_pooling2d (Gl multiple                  0         \n",
      "_________________________________________________________________\n",
      "dropout_16 (Dropout)         multiple                  0         \n",
      "_________________________________________________________________\n",
      "dense (Dense)                multiple                  257       \n",
      "=================================================================\n",
      "Total params: 5,210,753\n",
      "Trainable params: 5,204,993\n",
      "Non-trainable params: 5,760\n",
      "_________________________________________________________________\n"
     ]
    }
   ],
   "source": [
    "model.summary()"
   ]
  },
  {
   "cell_type": "code",
   "execution_count": 15,
   "metadata": {},
   "outputs": [],
   "source": [
    "model.compile(keras.optimizers.Adam(learning_rate=0.0001), loss=tf.losses.BinaryCrossentropy(from_logits=False), metrics=[\"accuracy\"])"
   ]
  },
  {
   "cell_type": "code",
   "execution_count": 13,
   "metadata": {},
   "outputs": [
    {
     "name": "stdout",
     "output_type": "stream",
     "text": [
      "Found 209023 images belonging to 2 classes.\n",
      "Found 11002 images belonging to 2 classes.\n",
      "(209023, 2)\n"
     ]
    }
   ],
   "source": [
    "train, valid = train_test_split(df_train, test_size=0.05, shuffle=True)\n",
    "train_df = pd.DataFrame(train, columns=['id','label']).astype('str')\n",
    "valid_df = pd.DataFrame(valid, columns=['id','label']).astype('str')\n",
    "train_df.values[:,0]=train_df.values[:,0]+'.tif'\n",
    "valid_df.values[:,0]=valid_df.values[:,0]+'.tif'\n",
    "train_generator, valid_generator = get_data_generator(train_df, valid_df)\n",
    "print(train_df.shape)"
   ]
  },
  {
   "cell_type": "code",
   "execution_count": 16,
   "metadata": {},
   "outputs": [
    {
     "name": "stdout",
     "output_type": "stream",
     "text": [
      "Epoch 1/10\n",
      "6531/6531 [==============================] - 6902s 1s/step - loss: 0.1359 - accuracy: 0.9507 - val_loss: 0.2055 - val_accuracy: 0.9226\n",
      "Epoch 2/10\n",
      "6531/6531 [==============================] - 7063s 1s/step - loss: 0.1289 - accuracy: 0.9536 - val_loss: 0.1762 - val_accuracy: 0.9349\n",
      "Epoch 3/10\n",
      "6531/6531 [==============================] - 6893s 1s/step - loss: 0.1262 - accuracy: 0.9545 - val_loss: 0.1754 - val_accuracy: 0.9350\n",
      "Epoch 4/10\n",
      "6531/6531 [==============================] - 6787s 1s/step - loss: 0.1238 - accuracy: 0.9554 - val_loss: 0.2690 - val_accuracy: 0.9042\n",
      "Epoch 5/10\n",
      "6531/6531 [==============================] - 6964s 1s/step - loss: 0.1214 - accuracy: 0.9566 - val_loss: 0.2020 - val_accuracy: 0.9209\n",
      "Epoch 6/10\n",
      "6531/6531 [==============================] - 7061s 1s/step - loss: 0.1193 - accuracy: 0.9569 - val_loss: 0.2084 - val_accuracy: 0.9214\n"
     ]
    }
   ],
   "source": [
    "earlystopper = EarlyStopping(\n",
    "    monitor='val_loss', patience=3)\n",
    "    \n",
    "history = model.fit_generator(train_generator,\n",
    "      validation_data=valid_generator,\n",
    "      epochs=10,\n",
    "      callbacks=[earlystopper],\n",
    "      steps_per_epoch=train_df.shape[0]//batch_size,\n",
    "      validation_steps=valid_df.shape[0]//batch_size\n",
    "     )"
   ]
  },
  {
   "cell_type": "code",
   "execution_count": 10,
   "metadata": {},
   "outputs": [
    {
     "ename": "NameError",
     "evalue": "name 'train_generator' is not defined",
     "output_type": "error",
     "traceback": [
      "\u001b[1;31m---------------------------------------------------------------------------\u001b[0m",
      "\u001b[1;31mNameError\u001b[0m                                 Traceback (most recent call last)",
      "\u001b[1;32m<ipython-input-10-d0411ccbe0a0>\u001b[0m in \u001b[0;36m<module>\u001b[1;34m\u001b[0m\n\u001b[1;32m----> 1\u001b[1;33m \u001b[0mdata\u001b[0m \u001b[1;33m=\u001b[0m \u001b[0mnext\u001b[0m\u001b[1;33m(\u001b[0m\u001b[0miter\u001b[0m\u001b[1;33m(\u001b[0m\u001b[0mtrain_generator\u001b[0m\u001b[1;33m)\u001b[0m\u001b[1;33m)\u001b[0m\u001b[1;33m\u001b[0m\u001b[1;33m\u001b[0m\u001b[0m\n\u001b[0m\u001b[0;32m      2\u001b[0m \u001b[0mprint\u001b[0m\u001b[1;33m(\u001b[0m\u001b[0mmodel\u001b[0m\u001b[1;33m(\u001b[0m\u001b[0mdata\u001b[0m\u001b[1;33m[\u001b[0m\u001b[1;36m0\u001b[0m\u001b[1;33m]\u001b[0m\u001b[1;33m)\u001b[0m\u001b[1;33m)\u001b[0m\u001b[1;33m\u001b[0m\u001b[1;33m\u001b[0m\u001b[0m\n\u001b[0;32m      3\u001b[0m \u001b[0mprint\u001b[0m\u001b[1;33m(\u001b[0m\u001b[0mdata\u001b[0m\u001b[1;33m[\u001b[0m\u001b[1;36m1\u001b[0m\u001b[1;33m]\u001b[0m\u001b[1;33m)\u001b[0m\u001b[1;33m\u001b[0m\u001b[1;33m\u001b[0m\u001b[0m\n",
      "\u001b[1;31mNameError\u001b[0m: name 'train_generator' is not defined"
     ]
    }
   ],
   "source": [
    "data = next(iter(train_generator))\n",
    "print(model(data[0]))\n",
    "print(data[1])"
   ]
  },
  {
   "cell_type": "code",
   "execution_count": 27,
   "metadata": {},
   "outputs": [],
   "source": [
    "sample_image=tf.random.normal([1,96,96,3], mean=128, stddev=10)\n",
    "model(sample_image)"
   ]
  },
  {
   "cell_type": "code",
   "execution_count": 18,
   "metadata": {},
   "outputs": [
    {
     "name": "stdout",
     "output_type": "stream",
     "text": [
      "Found 57458 images belonging to 1 classes.\n"
     ]
    }
   ],
   "source": [
    "test_datagen=ImageDataGenerator(\n",
    "    zca_whitening=True,\n",
    "    rescale=1./255.\n",
    ")\n",
    "\n",
    "test_generator = test_datagen.flow_from_directory(\n",
    "    directory=r'C:/test',\n",
    "    target_size=(96,96), \n",
    "    batch_size=2048,\n",
    "    class_mode=None,\n",
    "    shuffle=False\n",
    ") "
   ]
  },
  {
   "cell_type": "code",
   "execution_count": 19,
   "metadata": {},
   "outputs": [
    {
     "name": "stdout",
     "output_type": "stream",
     "text": [
      "1 0\n",
      "2048\n",
      "1\\00006537328c33e284c973d7b39d340809f7271b.tif 1\\0912a4f265fe7f37be287c4333167e59162cccba.tif\n",
      "2048\n",
      "2 2048\n",
      "2048\n",
      "1\\0912be906eeb7f21a21c9378c52640411c63fe92.tif 1\\126bf75fb455b0ead4c791b8616f91a7d7e0a23d.tif\n",
      "2048\n",
      "3 4096\n",
      "2048\n",
      "1\\126cb84577113e79c20ada4488b529e386259df3.tif 1\\1b608be7479cf8442c033320a0d449dbad9d7c8f.tif\n",
      "2048\n",
      "4 6144\n",
      "2048\n",
      "1\\1b6159e3e7385d1a936a41f6b85257fbc41ca47d.tif 1\\24d6cc1260f47d5cab369227e2b07b1b234f0f81.tif\n",
      "2048\n",
      "5 8192\n",
      "2048\n",
      "1\\24d765206aacf9435972fc93c7787864182edfe7.tif 1\\2d89e0f298d15eb26686c2556da95cc3abb80be7.tif\n",
      "2048\n",
      "6 10240\n",
      "2048\n",
      "1\\2d8b7b1e36fb276ef58888926d83aa9f14275877.tif 1\\36a510f3444a7641a312d6f0b5565ca932a9934a.tif\n",
      "2048\n",
      "7 12288\n",
      "2048\n",
      "1\\36a6027aad62d423a759fdfc72331af0fedff430.tif 1\\3fcbb4a94606d3e281ebf11d7075cdba2fecf96d.tif\n",
      "2048\n",
      "8 14336\n",
      "2048\n",
      "1\\3fcbdf438c17243900cbb3a59fd9d4b3bd7d028e.tif 1\\48e90d732baf86e86d3ef1a3e11036e264ad6fb3.tif\n",
      "2048\n",
      "9 16384\n",
      "2048\n",
      "1\\48e926fbd0ac80b3318ba1ec5c61555254d2952f.tif 1\\52007e2b1dbf12c81ef93c93b276cad090d2e512.tif\n",
      "2048\n",
      "10 18432\n",
      "2048\n",
      "1\\52008eef126bfb0d5bc6e37d61ec0fb5cefc13f6.tif 1\\5adb975c587f0d77f6adce945466c392e9ffe271.tif\n",
      "2048\n",
      "11 20480\n",
      "2048\n",
      "1\\5adf3d4aa1ec8ba38eef9c3729278dd50680e5fc.tif 1\\63dcbb37d4b56fa156395a3bae5f41cc25538036.tif\n",
      "2048\n",
      "12 22528\n",
      "2048\n",
      "1\\63dddf496ef24b15b42bf4a044847a9b737ec6bb.tif 1\\6d1802c183cd440bb66b35fdd82aac47f9ef737f.tif\n",
      "2048\n",
      "13 24576\n",
      "2048\n",
      "1\\6d1a8163831d6c8ce616ab5857185c57cf36954b.tif 1\\766167890995d8d4f737304e5445c5c66d1a42dd.tif\n",
      "2048\n",
      "14 26624\n",
      "2048\n",
      "1\\7663bed93b1a050b88dc0bf35e6d4da9da53b11e.tif 1\\7f7270577d0550993d0e1baf4d11c82e31a2f19b.tif\n",
      "2048\n",
      "15 28672\n",
      "2048\n",
      "1\\7f72b035b38aaf0d255cc9db0320f6aea396e8bb.tif 1\\88d0ad3a8cfd227b01bd75b902fdabdcf35a9ab1.tif\n",
      "2048\n",
      "16 30720\n",
      "2048\n",
      "1\\88d2d6703e3403535b0a494288edff408a40f3cd.tif 1\\91c447cddeb7505029201d4205a5d20e9753d871.tif\n",
      "2048\n",
      "17 32768\n",
      "2048\n",
      "1\\91c45251a5a901123b97ec60edd38d4a469cf4db.tif 1\\9b10bb1c528084dafd6d00f184792a76f7838641.tif\n",
      "2048\n",
      "18 34816\n",
      "2048\n",
      "1\\9b13d19d1086d934d82561284f2cd32f1ad12415.tif 1\\a468202cd4eb56b31f45d4b4aabe03a1dfd677fe.tif\n",
      "2048\n",
      "19 36864\n",
      "2048\n",
      "1\\a46b1378b57dda5dedb07222d880804597622b8c.tif 1\\ad699fffddb6377d918e4e684a51f143948e30f3.tif\n",
      "2048\n",
      "20 38912\n",
      "2048\n",
      "1\\ad6b48909d4168d28a3bbbca19992a56b4b3bdf7.tif 1\\b69600e8f869cfc06e6216e8903e60b00a5e38ba.tif\n",
      "2048\n",
      "21 40960\n",
      "2048\n",
      "1\\b6974923257c58917f12d11c4daa9987e5030691.tif 1\\bfdef55bec5ee86d32119ba74bc4e19c1eadbead.tif\n",
      "2048\n",
      "22 43008\n",
      "2048\n",
      "1\\bfe0d108f97e3a2334e00c3e8cace0add4e9ab89.tif 1\\c90970532ac18e7c73791dc0caac14d931983292.tif\n",
      "2048\n",
      "23 45056\n",
      "2048\n",
      "1\\c90a592d58a5da64d95f663539deb6b5edc5e0e5.tif 1\\d221a181af0bf218b4aaee74037e4e4dbeaed17d.tif\n",
      "2048\n",
      "24 47104\n",
      "2048\n",
      "1\\d22346939a5a131f99540871dfbd2f81490b45f6.tif 1\\db04d35148ca74b4bc1f041d5ee88a778bab3434.tif\n",
      "2048\n",
      "25 49152\n",
      "2048\n",
      "1\\db0838baf85e94b49ce84ec652e9c7704ea33089.tif 1\\e403313a2ce308182ce6079be5d0d07e4d496600.tif\n",
      "2048\n",
      "26 51200\n",
      "2048\n",
      "1\\e4041969a720076e1499a5cde8b9d87e7ddd16c9.tif 1\\ed1b0dc9f8d9fc34fd6f4020754fc1ac009e299e.tif\n",
      "2048\n",
      "27 53248\n",
      "2048\n",
      "1\\ed1bcde84ae5521755865223847bf32c35956b9a.tif 1\\f6a181ca0df4fe3494882ce32b6336313d10b755.tif\n",
      "2048\n",
      "28 55296\n",
      "2048\n",
      "1\\f6a26a7e6c0b51af2d8283314ed955bf9dcd4945.tif 1\\ff79d8194f72d923d4bbd98c0ef00a3a9d94f7f0.tif\n",
      "2048\n",
      "0 57344\n",
      "114\n",
      "1\\ff7b3b291a8d32f5e2e847a02851171eddbe756c.tif 1\\ffffeb4c0756098c7f589b7beec08ef1899093b5.tif\n",
      "114\n"
     ]
    }
   ],
   "source": [
    "submission = pd.DataFrame()\n",
    "\n",
    "for i in test_generator:\n",
    "\n",
    "    data_frame = pd.DataFrame()\n",
    "    \n",
    "    idx = (test_generator.batch_index - 1) * test_generator.batch_size\n",
    "    if test_generator.batch_index == 0:\n",
    "        idx = 57344\n",
    "    print(test_generator.batch_index, idx)\n",
    "    files = test_generator.filenames[idx : (idx + test_generator.batch_size) if (idx + test_generator.batch_size<=57458) else 57458] #\n",
    "    print(len(files))\n",
    "    print(files[0], files[-1])\n",
    "    data_frame['id']=np.array([x.split('.')[0][2:] for x in files])\n",
    "    predictions = model.predict(i,verbose=0)\n",
    "    print(len(predictions))\n",
    "    data_frame['label'] = np.array([int(x) for x in list(map(np.rint, predictions))])\n",
    "    submission = pd.concat([submission, data_frame])\n",
    "    if test_generator.batch_index == 0:\n",
    "        break\n",
    "\n",
    "submission.to_csv('result.csv', index=False, header=True)"
   ]
  },
  {
   "cell_type": "code",
   "execution_count": 121,
   "metadata": {},
   "outputs": [],
   "source": [
    "print(test_generator.batch_index, submission.shape)"
   ]
  },
  {
   "cell_type": "code",
   "execution_count": 124,
   "metadata": {},
   "outputs": [],
   "source": [
    "submission=submission.drop_duplicates([\"id\"])"
   ]
  },
  {
   "cell_type": "code",
   "execution_count": 48,
   "metadata": {},
   "outputs": [
    {
     "name": "stdout",
     "output_type": "stream",
     "text": [
      "0\n",
      "2048\n",
      "4096\n",
      "6144\n",
      "8192\n",
      "10240\n",
      "12288\n",
      "14336\n",
      "16384\n",
      "18432\n",
      "20480\n",
      "22528\n",
      "24576\n",
      "26624\n",
      "28672\n",
      "30720\n",
      "32768\n",
      "34816\n",
      "36864\n",
      "38912\n",
      "40960\n",
      "43008\n",
      "45056\n",
      "47104\n",
      "49152\n",
      "51200\n",
      "53248\n",
      "55296\n",
      "57344\n"
     ]
    }
   ],
   "source": [
    "import numpy as np\n",
    "from glob import glob\n",
    "from skimage.io import imread\n",
    "import os\n",
    "testing_files = glob(os.path.join('data/test/','*.tif'))\n",
    "submission = pd.DataFrame()\n",
    "\n",
    "for index in range(0, len(testing_files), 2048):\n",
    "    data_frame = pd.DataFrame({'path': testing_files[index:index+2048]})\n",
    "    data_frame['id'] = data_frame.path.map(lambda x: x.split(\".\")[0][10:])\n",
    "    data_frame['image'] = data_frame['path'].map(imread)\n",
    "    images = np.stack(data_frame.image, axis=0)\n",
    "    images = images / 255.\n",
    "    print(index)\n",
    "    predicted_labels = np.rint(model.predict(images,verbose=0))\n",
    "    data_frame['label'] = predicted_labels\n",
    "    submission = pd.concat([submission, data_frame[[\"id\", \"label\"]]])\n",
    "submission.to_csv('result.csv', index=False, header=True)"
   ]
  },
  {
   "cell_type": "code",
   "execution_count": 101,
   "metadata": {},
   "outputs": [
    {
     "name": "stdout",
     "output_type": "stream",
     "text": [
      "[1, 2, 3]\n"
     ]
    }
   ],
   "source": [
    "a=[1,2,3,4]\n",
    "print(a[0:(1+2) if 2<3 else 2])"
   ]
  },
  {
   "cell_type": "code",
   "execution_count": null,
   "metadata": {},
   "outputs": [],
   "source": []
  }
 ],
 "metadata": {
  "kernelspec": {
   "display_name": "Python 3",
   "language": "python",
   "name": "python3"
  },
  "language_info": {
   "codemirror_mode": {
    "name": "ipython",
    "version": 3
   },
   "file_extension": ".py",
   "mimetype": "text/x-python",
   "name": "python",
   "nbconvert_exporter": "python",
   "pygments_lexer": "ipython3",
   "version": "3.7.3"
  }
 },
 "nbformat": 4,
 "nbformat_minor": 2
}
